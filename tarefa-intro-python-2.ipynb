{
 "cells": [
  {
   "cell_type": "markdown",
   "metadata": {},
   "source": [
    "**Course website**: http://www.leouieda.com/matematica-especial\n",
    "\n",
    "**Note**: This notebook is part of the course \"Matemática Especial I\" of the [Universidade do Estado do Rio de Janeiro](http://www.uerj.br/). All content can be freely used and adapted under the terms of the \n",
    "[Creative Commons Attribution 4.0 International License](http://creativecommons.org/licenses/by/4.0/).\n",
    "\n",
    "![Creative Commons License](https://i.creativecommons.org/l/by/4.0/88x31.png)"
   ]
  },
  {
   "cell_type": "markdown",
   "metadata": {},
   "source": [
    "# Tarefas de Python II"
   ]
  },
  {
   "cell_type": "markdown",
   "metadata": {},
   "source": [
    "Nessas tarefas, vocês vão praticar os conceitos de programação em Python que aprenderam na prática passada. Além disso, vão aprender algumas coisas novas, como ler dados de arquivos.\n",
    "\n",
    "Algumas células de código estarão preenchidas. Essas células são exemplos ou códigos que devem ser rodados para verificar se seu resultado está de acordo com o esperado."
   ]
  },
  {
   "cell_type": "markdown",
   "metadata": {},
   "source": [
    "## Leitura recomendada\n",
    "\n",
    "O material da lição \"Programming with Python\" versão 4 do\n",
    "[Software Carpentry](http://software-carpentry.org/).\n",
    "Particularmente:\n",
    "\n",
    "* Lists\n",
    "* Input and Output\n",
    "* Strings"
   ]
  },
  {
   "cell_type": "markdown",
   "metadata": {},
   "source": [
    "## Listas\n",
    "\n",
    "Vocês tiveram um contato limitado com listas antes. Agora, vamos aprender como fazer coisas mais sofisticadas com listas, como adicionar valores, fazer uma cópia, e utilizar a lista no `for`.\n",
    "\n",
    "Primeiro, vamos criar uma lista para testarmos."
   ]
  },
  {
   "cell_type": "code",
   "execution_count": 1,
   "metadata": {
    "collapsed": true
   },
   "outputs": [],
   "source": [
    "lista = [42, 21, 14, 7, 29]"
   ]
  },
  {
   "cell_type": "markdown",
   "metadata": {},
   "source": [
    "Você pode perguntar o número de elementos que existem em uma lista utilizando a função `len` (muito melhor que contar os elementos na mão)."
   ]
  },
  {
   "cell_type": "code",
   "execution_count": 2,
   "metadata": {
    "collapsed": false
   },
   "outputs": [
    {
     "name": "stdout",
     "output_type": "stream",
     "text": [
      "5\n"
     ]
    }
   ],
   "source": [
    "N = len(lista)\n",
    "print(N)"
   ]
  },
  {
   "cell_type": "markdown",
   "metadata": {},
   "source": [
    "Outra coisa que podemos fazer é adicionar coisas a nossa lista utilizando o método `append`. \n",
    "\n",
    "**Nota**: \"funções\" são coisa como `print`, `len` e `range` que são executadas com `()` e produzem algo. \"Métodos\" são funções que operam em uma determinada variável e a alteram, como `append` e `format`."
   ]
  },
  {
   "cell_type": "code",
   "execution_count": 3,
   "metadata": {
    "collapsed": true
   },
   "outputs": [],
   "source": [
    "outra_lista = []"
   ]
  },
  {
   "cell_type": "code",
   "execution_count": 4,
   "metadata": {
    "collapsed": true
   },
   "outputs": [],
   "source": [
    "outra_lista.append(10)"
   ]
  },
  {
   "cell_type": "code",
   "execution_count": 5,
   "metadata": {
    "collapsed": false
   },
   "outputs": [
    {
     "name": "stdout",
     "output_type": "stream",
     "text": [
      "[10]\n"
     ]
    }
   ],
   "source": [
    "print(outra_lista)"
   ]
  },
  {
   "cell_type": "markdown",
   "metadata": {},
   "source": [
    "Experimente adicionar elementos a `lista` (utilize a célula vazia abaixo; isso não é uma tarefa ainda)."
   ]
  },
  {
   "cell_type": "code",
   "execution_count": 8,
   "metadata": {
    "collapsed": false
   },
   "outputs": [
    {
     "name": "stdout",
     "output_type": "stream",
     "text": [
      "[10, 'Cthulhu', 'Cthulhu', 999, 'Cthulhu', 999, 1]\n"
     ]
    }
   ],
   "source": [
    "outra_lista.append(\"Cthulhu\")\n",
    "outra_lista.append(999)\n",
    "outra_lista.append(1)\n",
    "print(outra_lista)"
   ]
  },
  {
   "cell_type": "markdown",
   "metadata": {},
   "source": [
    "Até agora, vocês viram o `for` utilizado somente em conjunto com a função `range`, por exemplo:\n",
    "\n",
    "    for i in range(10):\n",
    "        print(i)\n",
    "\n",
    "Essa é uma parte de como o `for` realmente opera. Na realidade, o `for` itera sobre *elementos de uma lista*. Qualquer lista. O `i` no exemplo acima é uma variável como qualquer outra e pode ter o nome que você quiser. \n",
    "\n",
    "Por exemplo, para iterar sobre os elementos de nossa `lista`:"
   ]
  },
  {
   "cell_type": "code",
   "execution_count": 9,
   "metadata": {
    "collapsed": false
   },
   "outputs": [
    {
     "name": "stdout",
     "output_type": "stream",
     "text": [
      "valor == 42\n",
      "valor == 21\n",
      "valor == 14\n",
      "valor == 7\n",
      "valor == 29\n"
     ]
    }
   ],
   "source": [
    "for valor in lista:\n",
    "    print(\"valor ==\", valor)"
   ]
  },
  {
   "cell_type": "markdown",
   "metadata": {},
   "source": [
    "## Lendo dados de arquivos\n",
    "\n",
    "No mundo real, vocês precisarão rotineiramente trabalhar com dados que estão salvos em arquivos. Um formato muito utilizando é o CSV (Comma Separated Values). Nas tarefas dessa prática, vocês terão que analisar os dados do arquivo `dados.csv` que está junto no repositório. Abra esse arquivo em um editor de texto (Notepad++ ou SublimeText) para ver como é o arquivo. A primeira coluna do arquivo representa a hora do dia (de 0 a 24) e a segunda coluna representa um dado fictício de temperatura.\n",
    "\n",
    "Precisamos carregar esses dados para duas listas (uma para as horas e outra para as temperaturas) para podermos trabalhar com eles no Python. Para abrir um arquivo para leitura, utilize a função `open` do Python. Por exemplo: "
   ]
  },
  {
   "cell_type": "code",
   "execution_count": 10,
   "metadata": {
    "collapsed": true
   },
   "outputs": [],
   "source": [
    "arquivo = open('dados.csv')"
   ]
  },
  {
   "cell_type": "markdown",
   "metadata": {},
   "source": [
    "A variável produzida por `open` possui alguns métodos para acessar o conteúdo do arquivo em formato de texto (strings).\n",
    "Um desses métodos é o `readline`. Esse método lê a próxima linha do arquivo e a retorna como texto. Por exemplo:"
   ]
  },
  {
   "cell_type": "code",
   "execution_count": 12,
   "metadata": {
    "collapsed": false
   },
   "outputs": [
    {
     "name": "stdout",
     "output_type": "stream",
     "text": [
      "0.1, 0.61464164\n",
      "\n"
     ]
    }
   ],
   "source": [
    "linha = arquivo.readline()\n",
    "print(linha)"
   ]
  },
  {
   "cell_type": "markdown",
   "metadata": {},
   "source": [
    "Rode a célula acima novamente e veja o que acontece.\n"
   ]
  },
  {
   "cell_type": "markdown",
   "metadata": {},
   "source": [
    "Quanto terminamos de utilizar o arquivo, devemos fechá-lo (como as figuras)."
   ]
  },
  {
   "cell_type": "code",
   "execution_count": 13,
   "metadata": {
    "collapsed": true
   },
   "outputs": [],
   "source": [
    "arquivo.close()"
   ]
  },
  {
   "cell_type": "markdown",
   "metadata": {},
   "source": [
    "Uma vez obtida a linha em formato de texto, precisamo separar os dois valores. Os objetos de texto (strings) possuem diversos métodos para trabalharmos com eles. Um desses vocês já conhecem, o método `format`. Para ver uma lista dos métodos disponíveis, digite na célula abaixo `linha.` e aperte a tecla TAB."
   ]
  },
  {
   "cell_type": "code",
   "execution_count": 14,
   "metadata": {
    "collapsed": false
   },
   "outputs": [
    {
     "ename": "SyntaxError",
     "evalue": "invalid syntax (<ipython-input-14-5e52d420a97d>, line 1)",
     "output_type": "error",
     "traceback": [
      "\u001b[1;36m  File \u001b[1;32m\"<ipython-input-14-5e52d420a97d>\"\u001b[1;36m, line \u001b[1;32m1\u001b[0m\n\u001b[1;33m    linha.\u001b[0m\n\u001b[1;37m          ^\u001b[0m\n\u001b[1;31mSyntaxError\u001b[0m\u001b[1;31m:\u001b[0m invalid syntax\n"
     ]
    }
   ],
   "source": [
    "linha."
   ]
  },
  {
   "cell_type": "markdown",
   "metadata": {},
   "source": [
    "O método que queremos chama-se `split`. Ele faz exatamente o que o nome diz: quebra uma string em várias. O argumento que é passado para ele é o texto que separa os diversos blocos. Por exemplo:"
   ]
  },
  {
   "cell_type": "code",
   "execution_count": 15,
   "metadata": {
    "collapsed": false
   },
   "outputs": [
    {
     "name": "stdout",
     "output_type": "stream",
     "text": [
      "['Texto', 'separado', 'por', 'interrogacoes']\n"
     ]
    }
   ],
   "source": [
    "texto = \"Texto ? separado ? por ? interrogacoes\"\n",
    "blocos = texto.split(' ? ')\n",
    "print(blocos)"
   ]
  },
  {
   "cell_type": "markdown",
   "metadata": {},
   "source": [
    "Note que o resultado produzido por `split` é uma lista."
   ]
  },
  {
   "cell_type": "code",
   "execution_count": 16,
   "metadata": {
    "collapsed": false
   },
   "outputs": [
    {
     "data": {
      "text/plain": [
       "'Texto'"
      ]
     },
     "execution_count": 16,
     "metadata": {},
     "output_type": "execute_result"
    }
   ],
   "source": [
    "blocos[0]"
   ]
  },
  {
   "cell_type": "markdown",
   "metadata": {},
   "source": [
    "Experimente separar a linha do arquivo que vemos acima nos dois valores que ela contem (utilize a célula vazia abaixo; isso não é uma tarefa ainda)."
   ]
  },
  {
   "cell_type": "code",
   "execution_count": 31,
   "metadata": {
    "collapsed": false
   },
   "outputs": [
    {
     "name": "stdout",
     "output_type": "stream",
     "text": [
      "0, 0\n",
      "\n",
      "['0', '0\\n']\n"
     ]
    }
   ],
   "source": [
    "arquivo = open('dados.csv')\n",
    "linha = arquivo.readline()\n",
    "print(linha)\n",
    "split = linha.split(', ')\n",
    "print(split)\n",
    "arquivo.close()"
   ]
  },
  {
   "cell_type": "markdown",
   "metadata": {},
   "source": [
    "Depois que conseguirmos nossos valores em formato texto, precisamos convertê-los para números. O Python nos fornece algumas funções para isso: `int` (para números inteiros), `float` (para números \"reais\" ou ponto flutuante) e `complex` (para números complexos). Por exemplo: "
   ]
  },
  {
   "cell_type": "code",
   "execution_count": 32,
   "metadata": {
    "collapsed": false
   },
   "outputs": [
    {
     "name": "stdout",
     "output_type": "stream",
     "text": [
      "8889\n"
     ]
    }
   ],
   "source": [
    "valor_em_texto = \"8888\"\n",
    "valor = int(valor_em_texto)\n",
    "print(valor + 1)"
   ]
  },
  {
   "cell_type": "code",
   "execution_count": 33,
   "metadata": {
    "collapsed": false
   },
   "outputs": [
    {
     "name": "stdout",
     "output_type": "stream",
     "text": [
      "2.1\n"
     ]
    }
   ],
   "source": [
    "float_em_texto = \"4.2\"\n",
    "valor = float(float_em_texto)\n",
    "print(valor/2)"
   ]
  },
  {
   "cell_type": "markdown",
   "metadata": {},
   "source": [
    "Por último, podemos tratar a variável `arquivo` retornada por `open` como uma lista das linhas do arquivo. Isso quer dizer que podemos utilizá-la em um `for` como:"
   ]
  },
  {
   "cell_type": "code",
   "execution_count": 34,
   "metadata": {
    "collapsed": false
   },
   "outputs": [
    {
     "name": "stdout",
     "output_type": "stream",
     "text": [
      "240\n"
     ]
    }
   ],
   "source": [
    "arquivo = open('dados.csv')\n",
    "num_linhas = 0\n",
    "for linha in arquivo:\n",
    "    num_linhas = num_linhas + 1    \n",
    "arquivo.close()\n",
    "print(num_linhas)"
   ]
  },
  {
   "cell_type": "markdown",
   "metadata": {},
   "source": [
    "Experimente imprimir todas as linhas do arquivo `README.md` (utilize a célula vazia abaixo; isso não é uma tarefa ainda)."
   ]
  },
  {
   "cell_type": "code",
   "execution_count": 38,
   "metadata": {
    "collapsed": false
   },
   "outputs": [
    {
     "name": "stdout",
     "output_type": "stream",
     "text": [
      "# PrÃ¡tica de IntroduÃ§Ã£o ao Python II\n",
      "\n",
      "\n",
      "\n",
      "Parte do curso\n",
      "\n",
      "[MatemÃ¡tica Especial I](http://www.leouieda.com/matematica-especial/)\n",
      "\n",
      "da [UERJ](http://www.uerj.br/).\n",
      "\n",
      "\n",
      "\n",
      "Ministrado por [Leonardo Uieda](http://www.leouieda.com/).\n",
      "\n",
      "\n",
      "\n",
      "## Objetivos\n",
      "\n",
      "\n",
      "\n",
      "* Apresentar o Jupyter notebook\n",
      "\n",
      "* Praticar os conceitos de programaÃ§Ã£o com Python aprendidos nas aulas anteriores\n",
      "\n",
      "* Aprender a carregar dados de arquivos\n",
      "\n",
      "\n",
      "\n",
      "## PreparaÃ§Ã£o\n",
      "\n",
      "\n",
      "\n",
      "Nessa prÃ¡tica vamos utilizar o [Jupyter notebook](http://jupyter.org/)\n",
      "\n",
      "para programar em Python. VocÃª nÃ£o precisarÃ£o utilizar editores de texto\n",
      "\n",
      "(como Notepad++) e arquivos `.py`.\n",
      "\n",
      "\n",
      "\n",
      "**Primeiro**, verifique que o Jupyter estÃ¡ instalado junto com\n",
      "\n",
      "seu Anaconda. Para isso, rode o comando abaixo no bash:\n",
      "\n",
      "\n",
      "\n",
      "    $ conda install jupyter\n",
      "\n",
      "\n",
      "\n",
      "**Segundo**, utilize o link enviado por e-mail para criar um repositÃ³rio para seu grupo.\n",
      "\n",
      "VocÃª precisarÃ¡ logar em sua conta do Github.\n",
      "\n",
      "O repositÃ³rio nÃ£o ficarÃ¡ mais em sua conta, e sim na conta compartilhada do\n",
      "\n",
      "LAGEX [github.com/lagex](https://github.com/lagex/).\n",
      "\n",
      "VocÃª tambÃ©m precisarÃ¡ escolher um nome para o seu grupo (minÃ­sculo,\n",
      "\n",
      "sem espaÃ§o ou caracter especial).\n",
      "\n",
      "Pode colocar o que quiser (recomendo ser conservador para nÃ£o se\n",
      "\n",
      "atrapalhar depois).\n",
      "\n",
      "\n",
      "\n",
      "**Terceiro**, os outros membros do grupo devem clicar no link tambÃ©m.\n",
      "\n",
      "Cada um deve logar com sua prÃ³pria conta do Github. Coloquem o nome do grupo\n",
      "\n",
      "que foi criado pelo colega. Isso darÃ¡ acesso *push* ao repositÃ³rio para todos\n",
      "\n",
      "vocÃªs.\n",
      "\n",
      "\n",
      "\n",
      "**Quarto**, peguem clones do respotÃ³rio criado acima para cada membro do grupo.\n",
      "\n",
      "\n",
      "\n",
      "**ATENÃ‡Ã‚O**: Todas as prÃ¡ticas serÃ£o feitas em repositÃ³rios e manejadas pelo git.\n",
      "\n",
      "Prestem atenÃ§Ã£o se estÃ£o fazendo **commits e push com frequÃªncia**.\n",
      "\n",
      "Isso pode evitar muita dor de cabeÃ§a no futuro.\n",
      "\n",
      "TambÃ©m Ã© importante lembrar de **trocar de clones** quando trocar o membro\n",
      "\n",
      "que estÃ¡ trabalhando. Caso contrÃ¡rio, os commits nÃ£o sairÃ£o no seu nome.\n",
      "\n",
      "Quando trocar o membro **deixe o outro amigo digitar**.\n",
      "\n",
      "NÃ£o deixe que uma Ãºnica pessoa faÃ§a commits por todos.\n",
      "\n",
      "Professor nÃ£o Ã© tÃ£o cego quanto vocÃªs pensam.\n",
      "\n",
      "\n",
      "\n",
      "**Quinto**, coloque um arquivo no repositÃ³rio chamado `alunos.txt` com o\n",
      "\n",
      "**nome completo** de cada aluno do grupo.\n",
      "\n",
      "\n",
      "\n",
      "## Jupyter notebooks\n",
      "\n",
      "\n",
      "\n",
      "Os notebooks rodam dentro de um navegador de internet (Firefox, Chrome, Safari, etc).\n",
      "\n",
      "Mas eles **nÃ£o rodam via internet**. Eles rodam em seu computador.\n",
      "\n",
      "Para utilizar o Jupyter, vocÃª precisa iniciar um servidor de notebook\n",
      "\n",
      "no seu computador.\n",
      "\n",
      "Isso soa mais complicado do que realmente Ã©.\n",
      "\n",
      "\n",
      "\n",
      "Para iniciar um servidor, abra o bash e digite:\n",
      "\n",
      "\n",
      "\n",
      "    $ jupyter notebook\n",
      "\n",
      "\n",
      "\n",
      "Espere um pouco atÃ© aparecer algo como:\n",
      "\n",
      "\n",
      "\n",
      "    [I 10:50:47.370 NotebookApp] Serving notebooks from local directory: /home/leo\n",
      "\n",
      "    [I 10:50:47.370 NotebookApp] 0 active kernels\n",
      "\n",
      "    [I 10:50:47.370 NotebookApp] The IPython Notebook is running at: http://localhost:8888/\n",
      "\n",
      "    [I 10:50:47.370 NotebookApp] Use Control-C to stop this server and shut down all kernels (twice to skip confirmation).\n",
      "\n",
      "\n",
      "\n",
      "Isso deve abrir o seu navegador padrÃ£o tambÃ©m em uma pÃ¡gina no endereÃ§o\n",
      "\n",
      "[http://127.0.0.1:8888](http://127.0.0.1:8888).\n",
      "\n",
      "Essa pÃ¡gina irÃ¡ te mostrar as pastas que estÃ£o em seu computador\n",
      "\n",
      "(a partir da pasta onde vocÃª rodou `$ jupyter notebook`).\n",
      "\n",
      "\n",
      "\n",
      "Para abrir um notebook, navegue atÃ© seu clone do repositÃ³rio\n",
      "\n",
      "e abra um dos arquivos `.ipynb`.\n",
      "\n",
      "Comece com o `jupyter-notebook-tour.ipynb`.\n",
      "\n",
      "**Siga as instruÃ§Ãµes no notebook e fique a vontade para explorar**.\n",
      "\n",
      "Lembre-se que nÃ£o tem como \"estragar de vez para todo o sempre\"\n",
      "\n",
      "algo que estÃ¡ sob controle de versÃ£o com o git.\n",
      "\n",
      "Qualquer coisa, Ã© sÃ³ pegar outro clone.\n",
      "\n",
      "\n",
      "\n",
      "## Tarefas\n",
      "\n",
      "\n",
      "\n",
      "ApÃ³s explorar o conteÃºdo de `jupyter-notebook-tour.ipynb`,\n",
      "\n",
      "siga as instruÃ§Ãµes em `tarefa-intro-python-2.ipynb`.\n",
      "\n",
      "As tarefas e **suas soluÃ§Ãµes devem estar contidas nesse notebook**.\n",
      "\n",
      "Por isso, faÃ§a commits de suas mudanÃ§as ao notebook.\n",
      "\n",
      "\n",
      "\n",
      "## Dicas\n",
      "\n",
      "\n",
      "\n",
      "* FaÃ§am muitos **commits**. Quanto mais melhor.\n",
      "\n",
      "* NÃ£o se esqueÃ§a do **push**.\n",
      "\n",
      "* Utilize **mensagens de commit** descritivas. \"Completei a tarefa 1\" Ã© melhor que\n",
      "\n",
      "  \"mudanÃ§a\".\n",
      "\n",
      "* Escolha nomes descritivos para **variÃ¡veis**. \"temperatura\" Ã© melhor que \"a\".\n",
      "\n",
      "* **Descreva o que (e por que) vocÃª fez** em comentÃ¡rios e cÃ©lulas de texto.\n",
      "\n",
      "  Isso serÃ¡ muito Ãºtil quando vocÃª voltar a essa tarefa depois.\n",
      "\n",
      "* Preste atenÃ§Ã£o aos **detalhes**. Leia as instruÃ§Ãµes com atenÃ§Ã£o.\n",
      "\n",
      "\n",
      "\n",
      "## Leitura recomendada\n",
      "\n",
      "\n",
      "\n",
      "O material da liÃ§Ã£o \"Programming with Python\" versÃ£o 4 do\n",
      "\n",
      "[Software Carpentry](http://software-carpentry.org/).\n",
      "\n",
      "Particularmente:\n",
      "\n",
      "\n",
      "\n",
      "* Lists\n",
      "\n",
      "* Input and Output\n",
      "\n",
      "* Strings\n",
      "\n",
      "\n",
      "\n",
      "## Entrega\n",
      "\n",
      "\n",
      "\n",
      "Crie uma Issue em https://github.com/leouieda/matematica-especial/ com:\n",
      "\n",
      "\n",
      "\n",
      "* TÃ­tulo: \"PrÃ¡tica Python 2: Aluno 1, Aluno 2, Aluno 3\"\n",
      "\n",
      "* Indique a qual turma pertece\n",
      "\n",
      "* Link para seu repositÃ³rio\n",
      "\n"
     ]
    }
   ],
   "source": [
    "arquivo = open('README.md')\n",
    "for linha in arquivo:\n",
    "    print(linha)\n",
    "arquivo.close()"
   ]
  },
  {
   "cell_type": "markdown",
   "metadata": {},
   "source": [
    "## **IMPORTANTE**: Cada tarefa abaixo deve ser feita por um membro DIFERENTE do grupo. Os outros devem ajudá-lo mas a pessoa digitando deve ser quem está encarregado da tarefa."
   ]
  },
  {
   "cell_type": "markdown",
   "metadata": {},
   "source": [
    "## Tarefa 1\n",
    "\n",
    "* Carregue os dados do arquivo `dados.csv` em duas listas: `tempos` e `dados` (os nomes precisam ser esses!). `tempos` deve conter os valores da primeira coluna e `dados` os da segunda.\n",
    "* Faça um gráfico dos hora x temperatura (lembre-se de utilizar a mágia `%matplotlib inline`).\n",
    "\n",
    "Você pode utilizar quantas células achar necessário para realizar a tarefa (use o menu \"Insert\"). Inclua comentátios para explicar o que você está fazendo."
   ]
  },
  {
   "cell_type": "code",
   "execution_count": 1,
   "metadata": {
    "collapsed": false
   },
   "outputs": [],
   "source": [
    "tempos = [] #primeiro, criamos duas listas vazias representando o tempo e a temperatura\n",
    "dados = []\n",
    "\n",
    "arquivo = open('dados.csv') #abrimos o arquivo com os dados\n",
    "for linha in arquivo: #para cada linha do arquivo...\n",
    "    split = linha.split(', ') #separamos os dois componentes da linha\n",
    "    tempos.append(float(split[0])) #o primeiro componente, convertido em float, vai para tempos\n",
    "    dados.append(float(split[1])) #o segundo componente, convertido tambem, vai para dados"
   ]
  },
  {
   "cell_type": "code",
   "execution_count": 3,
   "metadata": {
    "collapsed": false
   },
   "outputs": [
    {
     "data": {
      "image/png": "[encoded data removed]",
      "text/plain": [
       "<matplotlib.figure.Figure at 0x75b7b70>"
      ]
     },
     "metadata": {},
     "output_type": "display_data"
    }
   ],
   "source": [
    "import matplotlib.pyplot as plt #importamos a livraria para o grafico\n",
    "%matplotlib inline\n",
    "\n",
    "plt.figure() #criamos aqui a figura em branco\n",
    "plt.plot(tempos, dados, 'k') #aqui preenchemos-na com os dados organizados\n",
    "plt.title(\"Tempo x Temperatura\") #título\n",
    "plt.xlabel(u\"Tempo\") #nomeamos o eixo X\n",
    "plt.ylabel(\"Temperatura\") #nomeamos o eixo Y\n",
    "\n",
    "arquivo.close() #fechamos o arquivo"
   ]
  },
  {
   "cell_type": "markdown",
   "metadata": {},
   "source": [
    "### Resultado esperado\n",
    "\n",
    "A figura gerada deve ser parecida com:\n",
    "\n",
    "![images/dados.png](images/dados.png)\n",
    "\n",
    "Ao executar a célula abaixo, o resultado deve ser similar a:\n",
    "\n",
    "    Tempos: [0.0, 0.1, 0.2, 0.3, 0.4, 0.5, 0.6, 0.7, 0.8, ...]\n",
    "    Dados: [0.0, 0.61464164, 1.0320324, 1.1238251, 0.87540985, 0.39101585, -0.14270041, ...]"
   ]
  },
  {
   "cell_type": "code",
   "execution_count": 4,
   "metadata": {
    "collapsed": false
   },
   "outputs": [
    {
     "name": "stdout",
     "output_type": "stream",
     "text": [
      "Tempos: [0.0, 0.1, 0.2, 0.3, 0.4, 0.5, 0.6, 0.7, 0.8, 0.9, 1.0, 1.1, 1.2, 1.3, 1.4, 1.5, 1.6, 1.7, 1.8, 1.9, 2.0, 2.1, 2.2, 2.3, 2.4, 2.5, 2.6, 2.7, 2.8, 2.9, 3.0, 3.1, 3.2, 3.3, 3.4, 3.5, 3.6, 3.7, 3.8, 3.9, 4.0, 4.1, 4.2, 4.3, 4.4, 4.5, 4.6, 4.7, 4.8, 4.9, 5.0, 5.1, 5.2, 5.3, 5.4, 5.5, 5.6, 5.7, 5.8, 5.9, 6.0, 6.1, 6.2, 6.3, 6.4, 6.5, 6.6, 6.7, 6.8, 6.9, 7.0, 7.1, 7.2, 7.3, 7.4, 7.5, 7.6, 7.7, 7.8, 7.9, 8.0, 8.1, 8.2, 8.3, 8.4, 8.5, 8.6, 8.7, 8.8, 8.9, 9.0, 9.1, 9.2, 9.3, 9.4, 9.5, 9.6, 9.7, 9.8, 9.9, 10.0, 10.1, 10.2, 10.3, 10.4, 10.5, 10.6, 10.7, 10.8, 10.9, 11.0, 11.1, 11.2, 11.3, 11.4, 11.5, 11.6, 11.7, 11.8, 11.9, 12.0, 12.1, 12.2, 12.3, 12.4, 12.5, 12.6, 12.7, 12.8, 12.9, 13.0, 13.1, 13.2, 13.3, 13.4, 13.5, 13.6, 13.7, 13.8, 13.9, 14.0, 14.1, 14.2, 14.3, 14.4, 14.5, 14.6, 14.7, 14.8, 14.9, 15.0, 15.1, 15.2, 15.3, 15.4, 15.5, 15.6, 15.7, 15.8, 15.9, 16.0, 16.1, 16.2, 16.3, 16.4, 16.5, 16.6, 16.7, 16.8, 16.9, 17.0, 17.1, 17.2, 17.3, 17.4, 17.5, 17.6, 17.7, 17.8, 17.9, 18.0, 18.1, 18.2, 18.3, 18.4, 18.5, 18.6, 18.7, 18.8, 18.9, 19.0, 19.1, 19.2, 19.3, 19.4, 19.5, 19.6, 19.7, 19.8, 19.9, 20.0, 20.1, 20.2, 20.3, 20.4, 20.5, 20.6, 20.7, 20.8, 20.9, 21.0, 21.1, 21.2, 21.3, 21.4, 21.5, 21.6, 21.7, 21.8, 21.9, 22.0, 22.1, 22.2, 22.3, 22.4, 22.5, 22.6, 22.7, 22.8, 22.9, 23.0, 23.1, 23.2, 23.3, 23.4, 23.5, 23.6, 23.7, 23.8, 23.9]\n",
      "Dados: [0.0, 0.61464164, 1.0320324, 1.1238251, 0.87540985, 0.39101585, -0.14270041, -0.52186154, -0.59659114, -0.32337174, 0.21975159, 0.86043287, 1.3922289, 1.6467141, 1.5523145, 1.1593091, 0.62226425, 0.14603706, -0.085788363, 0.024965949, 0.45677374, 1.0759225, 1.6832216, 2.0835833, 2.1541709, 1.8873076, 1.3931564, 0.8612352, 0.49421121, 0.43710175, 0.72661379, 1.2783195, 1.9161477, 2.4338889, 2.6672284, 2.5511447, 2.1426217, 1.6007407, 1.1311076, 0.91402652, 1.0415133, 1.48515, 2.1060103, 2.703189, 3.0839824, 3.1312036, 2.8441177, 2.3386969, 1.8071066, 1.4505748, 1.4090961, 1.7125255, 2.2701481, 2.902367, 3.4034394, 3.613348, 3.4736972, 3.0481116, 2.5000081, 2.0355084, 1.8314335, 1.9735332, 2.4265299, 3.0464409, 3.6308739, 3.9897274, 4.0115968, 3.7026903, 3.1846584, 2.6520967, 2.3045669, 2.2768823, 2.5920127, 3.153059, 3.7771014, 4.2590973, 4.4435073, 4.2786283, 3.8346536, 3.2791511, 2.8185258, 2.6259153, 2.7807066, 3.2408029, 3.8573278, 4.4266312, 4.7614286, 4.7562241, 4.424162, 3.8924338, 3.3578455, 3.0180666, 3.0025774, 3.3274363, 3.8896698, 4.5032423, 4.9640432, 5.1211873, 4.9297225, 4.4663317, 3.9025443, 3.4448153, 3.2624035, 3.4282434, 3.8934667, 4.5044718, 5.0565811, 5.3655393, 5.3318785, 4.9756644, 4.4294856, 3.8921364, 3.5591707, 3.5545891, 3.8875211, 4.4490349, 5.05019, 5.4880385, 5.6165203, 5.3974851, 4.9140188, 4.3414187, 3.8859563, 3.7128201, 3.8884101, 4.3571415, 4.9608616, 5.4940968, 5.7758294, 5.7127321, 5.3317694, 4.7707774, 4.2303136, 3.9035954, 3.9090038, 4.2487288, 4.8080039, 5.3951972, 5.8087533, 5.9076023, 5.660439, 5.1566584, 4.5751275, 4.1217012, 3.957311, 4.1417471, 4.6127715, 5.2078593, 5.720973, 5.9745374, 5.8814716, 5.4756083, 4.8998752, 4.3563664, 4.0357444, 4.0506367, 4.3962913, 4.952237, 5.5243671, 5.9127468, 5.9814558, 5.7060695, 5.1821911, 4.5920549, 4.1408664, 3.9851183, 4.1779235, 4.650461, 5.2360174, 5.7282246, 5.9531508, 5.8300596, 5.3996139, 4.8096715, 4.2636343, 3.9493945, 3.9736985, 4.3248581, 4.8768333, 5.4332623, 5.7960567, 5.8345998, 5.5313751, 4.988086, 4.3901277, 3.9418246, 3.7950534, 3.9961897, 4.4699073, 5.0454927, 5.5164808, 5.7127796, 5.5600885, 5.1058548, 4.5026988, 3.9551006, 3.6479693, 3.6820497, 4.0387303, 4.5865447, 5.1270983, 5.4643731, 5.4732034, 5.1430008, 4.5814535, 3.9769084, 3.5325771, 3.395549, 3.6054095, 4.0804126, 4.6460377, 5.0959559, 5.2641073, 5.0827113, 4.6059455, 3.9910206, 3.443263, 3.1443897, 3.18903, 3.5516699, 4.0955656, 4.6205135, 4.9327876, 4.912815, 4.5569469, 3.9787347, 3.3692636, 2.930403, 2.8042882, 3.0236697, 3.5004738, 4.0565703, 4.4859995, 4.6269216, 4.4181522, 3.9205381, 3.2957021, 2.749585, 2.460506, 2.5168717]\n"
     ]
    }
   ],
   "source": [
    "print(\"Tempos:\", tempos)\n",
    "print(\"Dados:\", dados)"
   ]
  },
  {
   "cell_type": "markdown",
   "metadata": {},
   "source": [
    "## Tarefa 2\n",
    "\n",
    "* Calcule a temperatura média para o dia inteiro e guarde-a em uma variável chamada `media`.\n",
    "* Calcule o desvio padrão da temperatura para o dia inteiro e guarde-o em uma variável chamada `desvio_padrao`.\n",
    "\n",
    "Lembre-se que o desvio padrão é\n",
    "\n",
    "$$\n",
    "\\sigma = \\sqrt{\\sum\\limits_{i=1}^{N}\\frac{ (x_i - x_{media})^2 }{N}}\n",
    "$$\n",
    "\n",
    "em que $x_i$ são os dados, $x_{media}$ é a média e $N$ é o número de dados.\n",
    "\n",
    "**Dica**: Para elevar um número a uma potência, utilize `**`. Por exemplo, `2**4 == 16`."
   ]
  },
  {
   "cell_type": "code",
   "execution_count": 66,
   "metadata": {
    "collapsed": false
   },
   "outputs": [
    {
     "ename": "TypeError",
     "evalue": "'list' object is not callable",
     "output_type": "error",
     "traceback": [
      "\u001b[1;31m---------------------------------------------------------------------------\u001b[0m",
      "\u001b[1;31mTypeError\u001b[0m                                 Traceback (most recent call last)",
      "\u001b[1;32m<ipython-input-66-281bdba13306>\u001b[0m in \u001b[0;36m<module>\u001b[1;34m()\u001b[0m\n\u001b[0;32m      5\u001b[0m \u001b[0mmedia\u001b[0m \u001b[1;33m=\u001b[0m \u001b[0mmedia\u001b[0m\u001b[1;33m/\u001b[0m\u001b[0mlen\u001b[0m\u001b[1;33m(\u001b[0m\u001b[0mdados\u001b[0m\u001b[1;33m)\u001b[0m \u001b[1;31m#dividimos pelo numero de valores totais\u001b[0m\u001b[1;33m\u001b[0m\u001b[0m\n\u001b[0;32m      6\u001b[0m \u001b[1;33m\u001b[0m\u001b[0m\n\u001b[1;32m----> 7\u001b[1;33m \u001b[0mprint\u001b[0m\u001b[1;33m(\u001b[0m\u001b[1;34m'Media: '\u001b[0m\u001b[1;33m,\u001b[0m \u001b[0mmedia\u001b[0m\u001b[1;33m)\u001b[0m\u001b[1;33m\u001b[0m\u001b[0m\n\u001b[0m\u001b[0;32m      8\u001b[0m \u001b[1;33m\u001b[0m\u001b[0m\n\u001b[0;32m      9\u001b[0m \u001b[0mdesvio\u001b[0m \u001b[1;33m=\u001b[0m \u001b[1;36m0\u001b[0m \u001b[1;31m#criamos a variavel desvio vazia\u001b[0m\u001b[1;33m\u001b[0m\u001b[0m\n",
      "\u001b[1;31mTypeError\u001b[0m: 'list' object is not callable"
     ]
    }
   ],
   "source": [
    "media = 0 #criamos a variavel media vazia\n",
    "\n",
    "for y in dados:\n",
    "    media = media+y #somamos todos os valores de dados\n",
    "media = media/len(dados) #dividimos pelo numero de valores totais\n",
    "\n",
    "print('Media: ', media)\n",
    "\n",
    "desvio = 0 #criamos a variavel desvio vazia\n",
    "\n",
    "for xi in dados:\n",
    "    porpeta = ((xi - media)**2)/len(dados) #fazemos o somatorio com o comando for\n",
    "    desvio = desvio + porpeta #o somatorio e lentamente adicionado ao desvio total\n",
    "    \n",
    "desvio_padrao = desvio**0.5 #finalizamos o calculo\n",
    "print('Desvio Padrao: ', desvio)"
   ]
  },
  {
   "cell_type": "markdown",
   "metadata": {},
   "source": [
    "### Resultado esperado\n",
    "\n",
    "As celúlas abaixo comparam a sua média e desvio padrão com os calculados pela biblioteca [numpy](http://numpy.org/).\n",
    "Ambas devem imprimir `True` quando executadas."
   ]
  },
  {
   "cell_type": "code",
   "execution_count": 6,
   "metadata": {
    "collapsed": false
   },
   "outputs": [
    {
     "name": "stdout",
     "output_type": "stream",
     "text": [
      "Media esta igual? True\n"
     ]
    }
   ],
   "source": [
    "import numpy as np\n",
    "print(\"Media esta igual?\", np.allclose(media, np.mean(dados)))"
   ]
  },
  {
   "cell_type": "code",
   "execution_count": 7,
   "metadata": {
    "collapsed": false
   },
   "outputs": [
    {
     "name": "stdout",
     "output_type": "stream",
     "text": [
      "Desvio padrao esta igual? True\n"
     ]
    }
   ],
   "source": [
    "print(\"Desvio padrao esta igual?\", np.allclose(desvio_padrao, np.std(dados)))"
   ]
  },
  {
   "cell_type": "markdown",
   "metadata": {},
   "source": [
    "## Tarefa 3\n",
    "\n",
    "* Ache o valor máximo de temperatura medido e guarde-o na variável `maximo`.\n",
    "* Ache o valor mínimo de temperatura medido e guarde-o na variável `minimo`.\n",
    "\n",
    "**Dica**: o Python inclui um valor especial chamado de `None`. Ele é comumente utilizado para marcar que uma variável está \"vazia\" ou não utilizada ainda. Um detalhe desse valor é que não podemos utilizar `==` para checar se uma variável possui o valor `None`. Ao invés disso, devemos utilizar o comando `is`. Por exemplo:\n",
    "\n",
    "    variavel = None\n",
    "    if variavel is None:\n",
    "        print(\"A variavel eh None\")\n",
    "        variavel = 20\n",
    "        "
   ]
  },
  {
   "cell_type": "code",
   "execution_count": 8,
   "metadata": {
    "collapsed": false
   },
   "outputs": [],
   "source": [
    "maximo = dados[0] #iniciamos com um valor qualquer da lista dados\n",
    "minimo = dados[0] #o mesmo para o minimo\n",
    "\n",
    "for numero in dados:\n",
    "    if numero > maximo:\n",
    "        maximo = numero #passaremos numero por numero, ficando sempre com o maior\n",
    "        \n",
    "for numero in dados:\n",
    "    if numero < minimo: \n",
    "        minimo = numero #passaremos numero por numero, ficando sempre com o menor"
   ]
  },
  {
   "cell_type": "markdown",
   "metadata": {},
   "source": [
    "### Resultado esperado\n",
    "\n",
    "As celúlas abaixo comparam os valores máximo e mínimo com os calculados pelas funções `max` e `min` do Python.\n",
    "Ambas devem imprimir `True` quando executadas."
   ]
  },
  {
   "cell_type": "code",
   "execution_count": 9,
   "metadata": {
    "collapsed": false
   },
   "outputs": [
    {
     "name": "stdout",
     "output_type": "stream",
     "text": [
      "Maximo esta igual? True\n"
     ]
    }
   ],
   "source": [
    "print(\"Maximo esta igual?\", np.allclose(maximo, max(dados)))"
   ]
  },
  {
   "cell_type": "code",
   "execution_count": 10,
   "metadata": {
    "collapsed": false
   },
   "outputs": [
    {
     "name": "stdout",
     "output_type": "stream",
     "text": [
      "Minimo esta igual? True\n"
     ]
    }
   ],
   "source": [
    "print(\"Minimo esta igual?\", np.allclose(minimo, min(dados)))"
   ]
  },
  {
   "cell_type": "markdown",
   "metadata": {},
   "source": [
    "## Tarefa 4\n",
    "\n",
    "* Calcule a temperatura média por hora e guarde-as em uma lista chamada `media_hora`.\n",
    "* Faça um gráfico dos dados originais juntamente com as médias que você calculou.\n",
    "\n",
    "**Dica 1**: quantos dados existem por hora?\n",
    "\n",
    "**Dica 2**: veja esse [exemplo de como colocar uma legenda no grafico](http://matplotlib.org/examples/api/legend_demo.html)."
   ]
  },
  {
   "cell_type": "code",
   "execution_count": 20,
   "metadata": {
    "collapsed": false,
    "scrolled": true
   },
   "outputs": [
    {
     "data": {
      "image/png": "[encoded data removed]",
      "text/plain": [
       "<matplotlib.figure.Figure at 0x51e8208>"
      ]
     },
     "metadata": {},
     "output_type": "display_data"
    }
   ],
   "source": [
    "i = 0 #criamos a variavel i iniciando no valor 0\n",
    "\n",
    "media_hora = [] #criamos a lista media_hora vazia\n",
    "\n",
    "for x in range(24): #ou seja, repetiremos o comando a seguir 25 vezes\n",
    "    x = (dados[i]+dados[i+1]+dados[i+2]+dados[i+3]+dados[i+4]+dados[i+5]+dados[i+6]+dados[i+7]+dados[i+8]+dados[i+9])/10\n",
    "    #x sera a media dos 10 proximos itens da lista dados\n",
    "    i = i+10 #feito isso, o i pula uma dezena adiante\n",
    "    media_hora.append(x) #alem disso, o valor da media e adicionado a lista media_hora\n",
    "    #e entao o loop prossegue com o i representando a proxima dezena, ate que o comando seja repetido 25 vezes.\n",
    "    \n",
    "import numpy as np\n",
    "\n",
    "tempos = [] #primeiro, criamos duas listas vazias representando o tempo e a temperatura\n",
    "dados = []\n",
    "\n",
    "arquivo = open('dados.csv') #abrimos o arquivo com os dados\n",
    "for linha in arquivo: #para cada linha do arquivo...\n",
    "    split = linha.split(', ') #separamos os dois componentes da linha\n",
    "    tempos.append(float(split[0])) #o primeiro componente, convertido em float, vai para tempos\n",
    "    dados.append(float(split[1])) #o segundo componente, convertido tambem, vai para dados\n",
    "\n",
    "\n",
    "\n",
    "\n",
    "import matplotlib.pyplot as plt #importamos a livraria para o grafico\n",
    "%matplotlib inline\n",
    "\n",
    "plt.figure() #criamos aqui a figura em branco\n",
    "plt.plot(tempos, dados, 'b', label='Dados') #aqui preenchemos-na com os dados organizados\n",
    "plt.plot(media_hora,'ok', label='Média/hora')\n",
    "plt.title(\"Tempo x Temperatura\") #título\n",
    "plt.xlabel(u\"Tempo\") #nomeamos o eixo X\n",
    "plt.ylabel(\"Temperatura\") #nomeamos o eixo Y\n",
    "plt.legend(loc='lower right', fontsize='x-large')\n",
    "\n",
    "arquivo.close() #fechamos o arquivo"
   ]
  },
  {
   "cell_type": "markdown",
   "metadata": {},
   "source": [
    "### Resultado esperado\n",
    "\n",
    "A figura gerada deve ser parecida com:\n",
    "\n",
    "![images/media-por-hora.png](images/media-por-hora.png)"
   ]
  },
  {
   "cell_type": "markdown",
   "metadata": {},
   "source": [
    "## Tarefa Bônus\n",
    "\n",
    "Essa tarefa vale um bônus de 0.5 pontos na nota da prática.\n",
    "\n",
    "* Calcule os máximos de temperatura por hora.\n",
    "* Calcule os mínimos de temperatura por hora.\n",
    "* Faça um gráfico com: (1) os dados originais (2) as médias por hora (3) os máximos por hora (4) os mínimos por hora."
   ]
  },
  {
   "cell_type": "code",
   "execution_count": 19,
   "metadata": {
    "collapsed": false
   },
   "outputs": [
    {
     "data": {
      "text/plain": [
       "<matplotlib.legend.Legend at 0x7c6f5c0>"
      ]
     },
     "execution_count": 19,
     "metadata": {},
     "output_type": "execute_result"
    },
    {
     "data": {
      "image/png": "[encoded data removed]",
      "text/plain": [
       "<matplotlib.figure.Figure at 0x7c18c18>"
      ]
     },
     "metadata": {},
     "output_type": "display_data"
    }
   ],
   "source": [
    "import matplotlib.pyplot as plt #importamos a livraria para o grafico\n",
    "%matplotlib inline\n",
    "\n",
    "maximo_hora = [] #lista vazia criada\n",
    "\n",
    "for bananas in range(24): #ou seja, repetiremos o comando a seguir 24 vezes\n",
    "    p = bananas*10 #a cada loop, o p avancara uma dezena\n",
    "    max = dados[p] #max comecara sendo o primeiro dado observado\n",
    "    for chicletes in range(10): #a cada dezena, repetiremos este comando 10 vezes.\n",
    "        if dados[p+chicletes] > max: #se o elemento p for maior que max...\n",
    "            max = dados[p+chicletes] #... max sera o elemento.\n",
    "        \n",
    "    maximo_hora.append(max) #ao fim de dez repeticoes, o maior valor sera o max. Ele e entao adicionado a lista maximo_hora.\n",
    "    #agora continuamos o loop.\n",
    "\n",
    "minimo_hora = [] #lista vazia criada\n",
    "\n",
    "for bananas in range(24): #ou seja, repetiremos o comando a seguir 24 vezes\n",
    "    p = bananas*10 #a cada loop, o p avancara uma dezena\n",
    "    min = dados[p] #min comecara sendo o primeiro dado observado\n",
    "    for chicletes in range(10): #a cada dezena, repetiremos este comando 10 vezes.\n",
    "        if dados[p+chicletes] < min: #se o elemento p for menor que min...\n",
    "            min = dados[p+chicletes] #... min sera o elemento.\n",
    "        \n",
    "    minimo_hora.append(min) #ao fim de dez repeticoes, o maior valor sera o max. Ele e entao adicionado a lista maximo_hora.\n",
    "    #agora continuamos o loop.\n",
    "\n",
    "plt.figure() #criamos aqui a figura em branco\n",
    "plt.plot(tempos, dados, 'k', label='Dados') #aqui preenchemos-na com os dados organizados\n",
    "plt.plot(media_hora,'ok', label='Média/hora')\n",
    "plt.plot(maximo_hora,'or', label='Máximo/hora')\n",
    "plt.plot(minimo_hora,'ob', label='Mínimo/hora')\n",
    "plt.title(\"Tempo x Temperatura\") #título\n",
    "plt.xlabel(u\"Tempo\") #nomeamos o eixo X\n",
    "plt.ylabel(\"Temperatura\") #nomeamos o eixo Y\n",
    "plt.legend(loc='lower right', fontsize='x-large')"
   ]
  },
  {
   "cell_type": "markdown",
   "metadata": {},
   "source": [
    "### Resultado esperado\n",
    "\n",
    "A figura gerada deve ser parecida com:\n",
    "\n",
    "![images/media-maximo-minimo-por-hora.png](images/media-maximo-minimo-por-hora.png)"
   ]
  },
  {
   "cell_type": "code",
   "execution_count": 21,
   "metadata": {
    "collapsed": false
   },
   "outputs": [
    {
     "name": "stdout",
     "output_type": "stream",
     "text": [
      "Media:  3.614394766983332\n",
      "Desvio Padrao:  2.4749805418794293\n"
     ]
    },
    {
     "data": {
      "text/plain": [
       "<matplotlib.legend.Legend at 0x8d316d8>"
      ]
     },
     "execution_count": 21,
     "metadata": {},
     "output_type": "execute_result"
    },
    {
     "data": {
      "image/png": "[encoded data removed]",
      "text/plain": [
       "<matplotlib.figure.Figure at 0x7c42668>"
      ]
     },
     "metadata": {},
     "output_type": "display_data"
    }
   ],
   "source": [
    "#SEGUE TODO O RESULTADO DO TRABALHO EM UMA SO CELL\n",
    "\n",
    "import numpy as np\n",
    "import matplotlib.pyplot as plt #importamos a livraria para o grafico\n",
    "# %matplotlib inline #comando para que o programa faca o grafico no notebook jupyter\n",
    "\n",
    "tempos = [] #primeiro, criamos duas listas vazias representando o tempo e a temperatura\n",
    "dados = []\n",
    "\n",
    "arquivo = open('dados.csv') #abrimos o arquivo com os dados\n",
    "for linha in arquivo: #para cada linha do arquivo...\n",
    "    split = linha.split(', ') #separamos os dois componentes da linha\n",
    "    tempos.append(float(split[0])) #o primeiro componente, convertido em float, vai para tempos\n",
    "    dados.append(float(split[1])) #o segundo componente, convertido tambem, vai para dados\n",
    "\n",
    "\n",
    "maximo = dados[0] #iniciamos com um valor qualquer da lista dados\n",
    "minimo = dados[0] #o mesmo para o minimo\n",
    "\n",
    "for numero in dados:\n",
    "    if numero > maximo:\n",
    "        maximo = numero #passaremos numero por numero, ficando sempre com o maior\n",
    "        \n",
    "for numero in dados:\n",
    "    if numero < minimo: \n",
    "        minimo = numero #passaremos numero por numero, ficando sempre com o menor\n",
    "\n",
    "\n",
    "media = 0\n",
    "\n",
    "for y in dados:\n",
    "    media = media+y\n",
    "media = media/len(dados)\n",
    "\n",
    "print('Media: ', media)\n",
    "\n",
    "desvio = 0\n",
    "\n",
    "for xi in dados:\n",
    "    porpeta = ((xi - media)**2)/len(dados)\n",
    "    desvio = desvio + porpeta\n",
    "    \n",
    "desvio_padrao = desvio**0.5\n",
    "print('Desvio Padrao: ', desvio)\n",
    "\n",
    "\n",
    "maximo_hora = [] #lista vazia criada\n",
    "\n",
    "for bananas in range(24): #ou seja, repetiremos o comando a seguir 24 vezes\n",
    "    p = bananas*10 #a cada loop, o p avancara uma dezena\n",
    "    max = dados[p] #max comecara sendo o primeiro dado observado\n",
    "    for chicletes in range(10): #a cada dezena, repetiremos este comando 10 vezes.\n",
    "        if dados[p+chicletes] > max: #se o elemento p for maior que max...\n",
    "            max = dados[p+chicletes] #... max sera o elemento.\n",
    "        \n",
    "    maximo_hora.append(max) #ao fim de dez repeticoes, o maior valor sera o max. Ele e entao adicionado a lista maximo_hora.\n",
    "    #agora continuamos o loop.\n",
    "\n",
    "minimo_hora = [] #lista vazia criada\n",
    "\n",
    "for bananas in range(24): #ou seja, repetiremos o comando a seguir 24 vezes\n",
    "    p = bananas*10 #a cada loop, o p avancara uma dezena\n",
    "    min = dados[p] #min comecara sendo o primeiro dado observado\n",
    "    for chicletes in range(10): #a cada dezena, repetiremos este comando 10 vezes.\n",
    "        if dados[p+chicletes] < min: #se o elemento p for menor que min...\n",
    "            min = dados[p+chicletes] #... min sera o elemento.\n",
    "        \n",
    "    minimo_hora.append(min) #ao fim de dez repeticoes, o maior valor sera o max. Ele e entao adicionado a lista maximo_hora.\n",
    "    #agora continuamos o loop.\n",
    "\n",
    "\n",
    "plt.figure() #criamos aqui a figura em branco\n",
    "plt.plot(tempos, dados, 'k', label='Dados') #aqui preenchemos-na com os dados organizados\n",
    "plt.plot(media_hora,'ok', label='Média/hora')\n",
    "plt.plot(maximo_hora,'or', label='Máximo/hora')\n",
    "plt.plot(minimo_hora,'ob', label='Mínimo/hora')\n",
    "plt.title(\"Tempo x Temperatura\") #título\n",
    "plt.xlabel(u\"Tempo\") #nomeamos o eixo X\n",
    "plt.ylabel(\"Temperatura\") #nomeamos o eixo Y\n",
    "plt.legend(loc='lower right', fontsize='x-large')\n"
   ]
  },
  {
   "cell_type": "code",
   "execution_count": null,
   "metadata": {
    "collapsed": true
   },
   "outputs": [],
   "source": []
  }
 ],
 "metadata": {
  "kernelspec": {
   "display_name": "Python 3",
   "language": "python",
   "name": "python3"
  },
  "language_info": {
   "codemirror_mode": {
    "name": "ipython",
    "version": 3
   },
   "file_extension": ".py",
   "mimetype": "text/x-python",
   "name": "python",
   "nbconvert_exporter": "python",
   "pygments_lexer": "ipython3",
   "version": "3.4.3"
  }
 },
 "nbformat": 4,
 "nbformat_minor": 0
}
